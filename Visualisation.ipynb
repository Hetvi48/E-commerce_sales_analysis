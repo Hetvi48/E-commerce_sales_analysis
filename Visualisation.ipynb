{
 "cells": [
  {
   "cell_type": "markdown",
   "id": "bca0a28c-ed02-452c-94d5-539e5a1abd91",
   "metadata": {},
   "source": [
    "## Import relevant libraries"
   ]
  },
  {
   "cell_type": "code",
   "execution_count": 1,
   "id": "64a97921-8992-4f5d-bdcc-381e93ccd14f",
   "metadata": {},
   "outputs": [],
   "source": [
    "import numpy as np\n",
    "import pandas as pd\n",
    "import matplotlib.pyplot as plt\n",
    "import seaborn as sns\n",
    "sns.set()"
   ]
  },
  {
   "cell_type": "markdown",
   "id": "81d16646-06a6-458d-b4d2-890e19f82d9f",
   "metadata": {},
   "source": [
    "## Load data"
   ]
  },
  {
   "cell_type": "code",
   "execution_count": 2,
   "id": "053bdd90-20c0-4023-909a-ce44a9414a88",
   "metadata": {},
   "outputs": [],
   "source": [
    "data = pd.read_csv('Data/2_Customer_Feedback_encode.csv')"
   ]
  },
  {
   "cell_type": "code",
   "execution_count": 3,
   "id": "e0129403-87e1-4570-9cd2-9558dbf2df4e",
   "metadata": {},
   "outputs": [
    {
     "data": {
      "text/html": [
       "<div>\n",
       "<style scoped>\n",
       "    .dataframe tbody tr th:only-of-type {\n",
       "        vertical-align: middle;\n",
       "    }\n",
       "\n",
       "    .dataframe tbody tr th {\n",
       "        vertical-align: top;\n",
       "    }\n",
       "\n",
       "    .dataframe thead th {\n",
       "        text-align: right;\n",
       "    }\n",
       "</style>\n",
       "<table border=\"1\" class=\"dataframe\">\n",
       "  <thead>\n",
       "    <tr style=\"text-align: right;\">\n",
       "      <th></th>\n",
       "      <th>Customer ID</th>\n",
       "      <th>Platform</th>\n",
       "      <th>Order Date &amp; Time</th>\n",
       "      <th>Delivery Time (Minutes)</th>\n",
       "      <th>Product Category</th>\n",
       "      <th>Order Value (INR)</th>\n",
       "      <th>Customer Feedback</th>\n",
       "      <th>Service Rating</th>\n",
       "      <th>Delivery Delay</th>\n",
       "      <th>Refund Requested</th>\n",
       "      <th>sentiment_score</th>\n",
       "      <th>sentiment_category</th>\n",
       "      <th>sentiment_ordinal</th>\n",
       "    </tr>\n",
       "  </thead>\n",
       "  <tbody>\n",
       "    <tr>\n",
       "      <th>0</th>\n",
       "      <td>CUST2824</td>\n",
       "      <td>JioMart</td>\n",
       "      <td>00:19:29.500000</td>\n",
       "      <td>30</td>\n",
       "      <td>Fruits &amp; Vegetables</td>\n",
       "      <td>382</td>\n",
       "      <td>Fast delivery, great service!</td>\n",
       "      <td>5</td>\n",
       "      <td>0</td>\n",
       "      <td>0</td>\n",
       "      <td>0.600000</td>\n",
       "      <td>positive</td>\n",
       "      <td>2</td>\n",
       "    </tr>\n",
       "    <tr>\n",
       "      <th>1</th>\n",
       "      <td>CUST1409</td>\n",
       "      <td>Blinkit</td>\n",
       "      <td>00:54:29.500000</td>\n",
       "      <td>16</td>\n",
       "      <td>Dairy</td>\n",
       "      <td>279</td>\n",
       "      <td>Quick and reliable!</td>\n",
       "      <td>5</td>\n",
       "      <td>0</td>\n",
       "      <td>0</td>\n",
       "      <td>0.416667</td>\n",
       "      <td>positive</td>\n",
       "      <td>2</td>\n",
       "    </tr>\n",
       "    <tr>\n",
       "      <th>2</th>\n",
       "      <td>CUST5506</td>\n",
       "      <td>JioMart</td>\n",
       "      <td>00:21:29.500000</td>\n",
       "      <td>25</td>\n",
       "      <td>Beverages</td>\n",
       "      <td>599</td>\n",
       "      <td>Items missing from order.</td>\n",
       "      <td>2</td>\n",
       "      <td>0</td>\n",
       "      <td>1</td>\n",
       "      <td>-0.200000</td>\n",
       "      <td>neutral</td>\n",
       "      <td>1</td>\n",
       "    </tr>\n",
       "    <tr>\n",
       "      <th>3</th>\n",
       "      <td>CUST5012</td>\n",
       "      <td>JioMart</td>\n",
       "      <td>00:19:29.500000</td>\n",
       "      <td>42</td>\n",
       "      <td>Beverages</td>\n",
       "      <td>946</td>\n",
       "      <td>Items missing from order.</td>\n",
       "      <td>2</td>\n",
       "      <td>1</td>\n",
       "      <td>1</td>\n",
       "      <td>-0.200000</td>\n",
       "      <td>neutral</td>\n",
       "      <td>1</td>\n",
       "    </tr>\n",
       "    <tr>\n",
       "      <th>4</th>\n",
       "      <td>CUST4657</td>\n",
       "      <td>Blinkit</td>\n",
       "      <td>00:49:29.500000</td>\n",
       "      <td>30</td>\n",
       "      <td>Beverages</td>\n",
       "      <td>334</td>\n",
       "      <td>Fast delivery, great service!</td>\n",
       "      <td>5</td>\n",
       "      <td>0</td>\n",
       "      <td>0</td>\n",
       "      <td>0.600000</td>\n",
       "      <td>positive</td>\n",
       "      <td>2</td>\n",
       "    </tr>\n",
       "  </tbody>\n",
       "</table>\n",
       "</div>"
      ],
      "text/plain": [
       "  Customer ID Platform Order Date & Time  Delivery Time (Minutes)  \\\n",
       "0    CUST2824  JioMart   00:19:29.500000                       30   \n",
       "1    CUST1409  Blinkit   00:54:29.500000                       16   \n",
       "2    CUST5506  JioMart   00:21:29.500000                       25   \n",
       "3    CUST5012  JioMart   00:19:29.500000                       42   \n",
       "4    CUST4657  Blinkit   00:49:29.500000                       30   \n",
       "\n",
       "      Product Category  Order Value (INR)              Customer Feedback  \\\n",
       "0  Fruits & Vegetables                382  Fast delivery, great service!   \n",
       "1                Dairy                279            Quick and reliable!   \n",
       "2            Beverages                599      Items missing from order.   \n",
       "3            Beverages                946      Items missing from order.   \n",
       "4            Beverages                334  Fast delivery, great service!   \n",
       "\n",
       "   Service Rating  Delivery Delay  Refund Requested  sentiment_score  \\\n",
       "0               5               0                 0         0.600000   \n",
       "1               5               0                 0         0.416667   \n",
       "2               2               0                 1        -0.200000   \n",
       "3               2               1                 1        -0.200000   \n",
       "4               5               0                 0         0.600000   \n",
       "\n",
       "  sentiment_category  sentiment_ordinal  \n",
       "0           positive                  2  \n",
       "1           positive                  2  \n",
       "2            neutral                  1  \n",
       "3            neutral                  1  \n",
       "4           positive                  2  "
      ]
     },
     "execution_count": 3,
     "metadata": {},
     "output_type": "execute_result"
    }
   ],
   "source": [
    "data.head()"
   ]
  },
  {
   "cell_type": "markdown",
   "id": "f41a66b0-e5d5-4cb5-ad03-f8497860bd96",
   "metadata": {},
   "source": [
    "### Getting inferences from data through data visualisation"
   ]
  },
  {
   "cell_type": "markdown",
   "id": "f2c3ce42-8470-4aee-abc3-dd241c72496f",
   "metadata": {},
   "source": [
    "#### 1. Which platform get most order?"
   ]
  },
  {
   "cell_type": "code",
   "execution_count": 8,
   "id": "63432ca8-87f9-4747-b614-8019b835f078",
   "metadata": {},
   "outputs": [
    {
     "name": "stderr",
     "output_type": "stream",
     "text": [
      "C:\\Users\\HETVI KHADELA\\AppData\\Local\\Temp\\ipykernel_21628\\4244481640.py:3: FutureWarning: \n",
      "\n",
      "Passing `palette` without assigning `hue` is deprecated and will be removed in v0.14.0. Assign the `x` variable to `hue` and set `legend=False` for the same effect.\n",
      "\n",
      "  sns.countplot(x = data['Platform'], palette = 'pastel')\n"
     ]
    },
    {
     "data": {
      "image/png": "[encoded data removed]",
      "text/plain": [
       "<Figure size 500x400 with 1 Axes>"
      ]
     },
     "metadata": {},
     "output_type": "display_data"
    }
   ],
   "source": [
    "plt.figure(figsize = (5,4))\n",
    "\n",
    "sns.countplot(x = data['Platform'], palette = 'pastel')\n",
    "plt.title('Total order per platform')\n",
    "\n",
    "plt.show()"
   ]
  },
  {
   "cell_type": "markdown",
   "id": "994a037e-c8d4-4a23-951c-aaab88708a85",
   "metadata": {},
   "source": [
    "#### 2. Average order value per platform"
   ]
  },
  {
   "cell_type": "code",
   "execution_count": 33,
   "id": "13b5254b-2500-4963-8a90-ebc0a4ee093c",
   "metadata": {},
   "outputs": [
    {
     "data": {
      "image/png": "[encoded data removed]",
      "text/plain": [
       "<Figure size 500x400 with 1 Axes>"
      ]
     },
     "metadata": {},
     "output_type": "display_data"
    },
    {
     "name": "stdout",
     "output_type": "stream",
     "text": [
      "Avg. value of Blinkit 589.5489468645285\n",
      "Avg. value of JioMart 590.5265191535606\n",
      "Avg. value of Swiggy Instamart 592.9021495410924\n"
     ]
    }
   ],
   "source": [
    "x = data['Platform']\n",
    "y = data.groupby('Platform')['Order Value (INR)'].mean().reset_index()\n",
    "\n",
    "plt.figure(figsize = (5,4))\n",
    "plt.pie(y['Order Value (INR)'], labels = ['Blinkit','JioMart', 'Swiggy Instamart'],autopct=\"%1.1f%%\")\n",
    "plt.show()\n",
    "print(f\"Avg. value of Blinkit {y.iloc[0,1]}\")\n",
    "print(f\"Avg. value of JioMart {y.iloc[1,1]}\")\n",
    "print(f\"Avg. value of Swiggy Instamart {y.iloc[2,1]}\")"
   ]
  },
  {
   "cell_type": "markdown",
   "id": "db1806fc-73ca-4a3c-929e-372c2206db9c",
   "metadata": {},
   "source": [
    "#### 3. Which platform take most time to deliver product?"
   ]
  },
  {
   "cell_type": "code",
   "execution_count": 34,
   "id": "fc399126-b6bc-4f64-b993-b5008e1dc6eb",
   "metadata": {},
   "outputs": [],
   "source": [
    "x = data['Platform']\n",
    "y = data.groupby('Platform')['Delivery Time (Minutes)'].mean().reset_index()"
   ]
  },
  {
   "cell_type": "code",
   "execution_count": 35,
   "id": "bcc750ed-c641-4c08-b747-6add17df8031",
   "metadata": {},
   "outputs": [
    {
     "data": {
      "text/html": [
       "<div>\n",
       "<style scoped>\n",
       "    .dataframe tbody tr th:only-of-type {\n",
       "        vertical-align: middle;\n",
       "    }\n",
       "\n",
       "    .dataframe tbody tr th {\n",
       "        vertical-align: top;\n",
       "    }\n",
       "\n",
       "    .dataframe thead th {\n",
       "        text-align: right;\n",
       "    }\n",
       "</style>\n",
       "<table border=\"1\" class=\"dataframe\">\n",
       "  <thead>\n",
       "    <tr style=\"text-align: right;\">\n",
       "      <th></th>\n",
       "      <th>Platform</th>\n",
       "      <th>Delivery Time (Minutes)</th>\n",
       "    </tr>\n",
       "  </thead>\n",
       "  <tbody>\n",
       "    <tr>\n",
       "      <th>0</th>\n",
       "      <td>Blinkit</td>\n",
       "      <td>29.474898</td>\n",
       "    </tr>\n",
       "    <tr>\n",
       "      <th>1</th>\n",
       "      <td>JioMart</td>\n",
       "      <td>29.634498</td>\n",
       "    </tr>\n",
       "    <tr>\n",
       "      <th>2</th>\n",
       "      <td>Swiggy Instamart</td>\n",
       "      <td>29.499925</td>\n",
       "    </tr>\n",
       "  </tbody>\n",
       "</table>\n",
       "</div>"
      ],
      "text/plain": [
       "           Platform  Delivery Time (Minutes)\n",
       "0           Blinkit                29.474898\n",
       "1           JioMart                29.634498\n",
       "2  Swiggy Instamart                29.499925"
      ]
     },
     "execution_count": 35,
     "metadata": {},
     "output_type": "execute_result"
    }
   ],
   "source": [
    "y"
   ]
  },
  {
   "cell_type": "code",
   "execution_count": 37,
   "id": "684bb83c-fbb3-42ce-b96b-e270d19a6f5f",
   "metadata": {},
   "outputs": [
    {
     "data": {
      "image/png": "[encoded data removed]",
      "text/plain": [
       "<Figure size 500x400 with 1 Axes>"
      ]
     },
     "metadata": {},
     "output_type": "display_data"
    }
   ],
   "source": [
    "plt.figure(figsize = (5,4))\n",
    "plt.pie(y['Delivery Time (Minutes)'], labels = ['Blinkit','JioMart', 'Swiggy Instamart'],autopct=\"%1.1f%%\")\n",
    "plt.show()"
   ]
  },
  {
   "cell_type": "markdown",
   "id": "dd0a8258-15cb-4299-96fd-0ccbaac759b6",
   "metadata": {},
   "source": [
    "#### 4. Which platform can deliver order by time?"
   ]
  },
  {
   "cell_type": "code",
   "execution_count": 45,
   "id": "36c74b73-acdf-483e-a6e2-38ace5091a9a",
   "metadata": {},
   "outputs": [
    {
     "data": {
      "image/png": "[encoded data removed]",
      "text/plain": [
       "<Figure size 640x480 with 1 Axes>"
      ]
     },
     "metadata": {},
     "output_type": "display_data"
    },
    {
     "data": {
      "text/html": [
       "<div>\n",
       "<style scoped>\n",
       "    .dataframe tbody tr th:only-of-type {\n",
       "        vertical-align: middle;\n",
       "    }\n",
       "\n",
       "    .dataframe tbody tr th {\n",
       "        vertical-align: top;\n",
       "    }\n",
       "\n",
       "    .dataframe thead th {\n",
       "        text-align: right;\n",
       "    }\n",
       "</style>\n",
       "<table border=\"1\" class=\"dataframe\">\n",
       "  <thead>\n",
       "    <tr style=\"text-align: right;\">\n",
       "      <th></th>\n",
       "      <th>Platform</th>\n",
       "      <th>Delivery Delay</th>\n",
       "    </tr>\n",
       "  </thead>\n",
       "  <tbody>\n",
       "    <tr>\n",
       "      <th>0</th>\n",
       "      <td>Blinkit</td>\n",
       "      <td>0.133826</td>\n",
       "    </tr>\n",
       "    <tr>\n",
       "      <th>1</th>\n",
       "      <td>JioMart</td>\n",
       "      <td>0.138256</td>\n",
       "    </tr>\n",
       "    <tr>\n",
       "      <th>2</th>\n",
       "      <td>Swiggy Instamart</td>\n",
       "      <td>0.138091</td>\n",
       "    </tr>\n",
       "  </tbody>\n",
       "</table>\n",
       "</div>"
      ],
      "text/plain": [
       "           Platform  Delivery Delay\n",
       "0           Blinkit        0.133826\n",
       "1           JioMart        0.138256\n",
       "2  Swiggy Instamart        0.138091"
      ]
     },
     "execution_count": 45,
     "metadata": {},
     "output_type": "execute_result"
    }
   ],
   "source": [
    "x = data['Platform']\n",
    "y = data.groupby('Platform')['Delivery Delay'].mean().reset_index()\n",
    "\n",
    "plt.bar(y['Platform'], y['Delivery Delay'])\n",
    "plt.show()\n",
    "y"
   ]
  },
  {
   "cell_type": "code",
   "execution_count": 46,
   "id": "788716d1-ae47-4623-9d37-03181dbeaf41",
   "metadata": {},
   "outputs": [
    {
     "data": {
      "text/plain": [
       "np.float64(0.13672)"
      ]
     },
     "execution_count": 46,
     "metadata": {},
     "output_type": "execute_result"
    }
   ],
   "source": [
    "data['Delivery Delay'].mean()"
   ]
  },
  {
   "cell_type": "code",
   "execution_count": null,
   "id": "7d4a266c-1b08-42e5-aaa5-a037452feb74",
   "metadata": {},
   "outputs": [],
   "source": []
  }
 ],
 "metadata": {
  "kernelspec": {
   "display_name": "Python 3 (ipykernel)",
   "language": "python",
   "name": "python3"
  },
  "language_info": {
   "codemirror_mode": {
    "name": "ipython",
    "version": 3
   },
   "file_extension": ".py",
   "mimetype": "text/x-python",
   "name": "python",
   "nbconvert_exporter": "python",
   "pygments_lexer": "ipython3",
   "version": "3.12.3"
  }
 },
 "nbformat": 4,
 "nbformat_minor": 5
}
